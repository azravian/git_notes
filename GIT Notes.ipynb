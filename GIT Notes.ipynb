{
 "cells": [
  {
   "cell_type": "markdown",
   "metadata": {},
   "source": [
    "# Git\n",
    "\n",
    "It is a version control system. which saves all changes in a file and keep tracks of versions. because going into git command, let us first understand some basic terms."
   ]
  },
  {
   "cell_type": "markdown",
   "metadata": {},
   "source": [
    "#### Repository:\n",
    "\n",
    "A git repository can be considered as a kind of database which contains all changes(versions) in a file and *metedata*.\n",
    "This repository is a single directory named as \".git\" hidden in root directiory of project.\n",
    "\n",
    "#### Clone:\n",
    "\n",
    "Cloning means creating a copy of a repository in local system by downloading it from a remote repository.\n",
    "\n",
    "#### Staging change:\n",
    "\n",
    "Once changes are made one would need to *stage changes* before commiting. By staging, it means your are making changes to be ready to be committed. There might be case when, for example, 9 files have been changed. But a user need to commit only changes in 4 files. In this case user needs to *stage* only these 4 files.\n",
    "\n",
    "#### Commit:\n",
    "\n",
    "When all these changes are made and user considers it final, he may *commit* these changes. As soon as a commit is made a new version of our wokring project is created. A commit creates a *snapshot* of project version. should a user needs to restore a previous version, a commit know what changes and files are to be restored.<br>\n",
    "each commit needs to have a small message to briefly explain the changes.\n",
    "\n",
    "#### Root or Working Directory:\n",
    "\n",
    "This directory contains all files for the project in local computer. A VCS systems can be asked to populate a working copy of project of any version. However only one copy, not all version, of working project in local computer with a specific version.\n",
    "\n",
    "\n",
    "#### Local repository:\n",
    "\n",
    "This repository is located in local computer memory. Only a single user can use and make commits to this repository.\n",
    "\n",
    "#### Remote Repository:\n",
    "\n",
    "A remote repository is located on internet or other local server. A remote repository doesn't have a working directory but an exclusive \".git\" repository directory. Remote repositories are useful when working in teams as everyone can access and pulich their changes.\n",
    "\n",
    "#### untracked file:\n",
    "\n",
    "the files which are not monitored by VCS for changes."
   ]
  },
  {
   "cell_type": "markdown",
   "metadata": {},
   "source": [
    "# Git Configuration:\n",
    "\n",
    "After isntallation of git some configuration is required. These configuration are user details. for this, open git bash and enter following command: \n",
    "<br>\n",
    "``$ git config --global user.name “<username>”``<br>\n",
    "``$ git config --global user.email “<email>”``<br>\n",
    "    \n",
    "<br><br>\n",
    "\n",
    "Now since we have installed and configured our git, we'll start the basic workflow of git VCS. Git VCS workflow have following steps:\n",
    "\n",
    "1. initialize an empty project or clone exisiting repository.\n",
    "2. Make Changes; add, edit, change files.\n",
    "3. Stage changes.\n",
    "4. commit changes\n"
   ]
  },
  {
   "cell_type": "markdown",
   "metadata": {},
   "source": [
    "# Summary of git:\n",
    "\n",
    "Most commonly we'll need only a few git commands, which are, given in order:\n",
    "\n",
    "###### 1a: ``git init``:\n",
    "\n",
    "initialize and empty repository. to be used only once\n",
    "\n",
    "###### 1b: ``git clone <remote repo address>``\n",
    "\n",
    "clones a remote repo. to be used only once\n",
    "\n",
    "###### 2: ``git add <filename>``:\n",
    "\n",
    "stages changes.\n",
    "\n",
    "###### 3: ``git commit -m \"commit message\"``:\n",
    "\n",
    "commits the staged channges.\n",
    "\n",
    "#### for remote repository:\n",
    "\n",
    "###### 1: ``git remote add origin <repo address>``:\n",
    "\n",
    "adds remote repo with *origin* aliasis. to be used only once.\n",
    "\n",
    "###### 2: ``git pull  origin master``\n",
    "\n",
    "gets data from remote repository\n",
    "\n",
    "###### 3: ``git push origin master``\n",
    "\n",
    "send commited changes to remote repository"
   ]
  },
  {
   "cell_type": "markdown",
   "metadata": {},
   "source": [
    "## 1a. Initialize an empty Repository:\n",
    "\n",
    "In order to do this, open git command line(git bash) and go to required directory using cd command. for example, I wanna create a repository in ``D:\\PIAIC\\gitPractice\\Project1``, which will be root directory. we need to run following command:\n",
    "\n",
    "\n",
    "`` $ cd /d/piaic/gitpractice/project1 ``\n",
    "\n",
    "\n",
    "as one may notice that path name is not case sensitive which means *gitPractice* and *gitpractice* are same.<br>\n",
    "Once in required directory, run the follwoing command to initialize repository:\n",
    "\n",
    "`` $ git init ``\n",
    "\n",
    "\n",
    "It will initialize an empty repository and a hidden folder named with \".git\" will be created in the root directory. \n",
    "The contents of a directory can be listed by using following command in command line:\n",
    "\n",
    "``ls -la``"
   ]
  },
  {
   "cell_type": "markdown",
   "metadata": {},
   "source": [
    "## 1b. Cloning an existing repository.\n",
    "\n",
    "If there is an existing repository, let's say a remote repository, one may create a local copy using clone command. it can be done by using following command:\n",
    "\n",
    "`` $ git clone <remote Repository address>  ``\n",
    "\n",
    "for example, if we wanna clone a repository, from ``https://github.com/azravian/python_exercise`` we will use following command.\n",
    "\n",
    "`` $ git clone https://github.com/azravian/python_exercise``\n",
    "\n",
    "now this remote repository will be downloaded in current root directory."
   ]
  },
  {
   "cell_type": "markdown",
   "metadata": {},
   "source": [
    "## 2. Make changes:\n",
    "\n",
    "Now we'll do changes in the project files. let us create some files.\n",
    "\n",
    "### Create a file using command line.\n",
    "\n",
    "In order to create a file in command line, we can use following command:\n",
    "\n",
    "``$ touch FirstFile.txt``\n",
    "\n",
    "it will create a *FirstFile.txt* in current directory.\n",
    "\n",
    "Now As we have created a file. we can now proceed with basic workflow of git VCS. let us create two more files named as SecondFile.txt and ThirdFile.txt.\n",
    "\n",
    "Now we'll have 3 file in our root directory.\n"
   ]
  },
  {
   "cell_type": "markdown",
   "metadata": {},
   "source": [
    "## Change Text file:\n",
    "\n",
    "let us make some changes in one file. we add some text in our *FirstFile.txt*. Now after changing file we can check the status for our file. it can be done by using following command:\n",
    "\n",
    "``$ git status``\n",
    "\n",
    "<img src=\"git1.PNG\" alt=\"File not found\" title=\".py file created\" />\n",
    "\n",
    "it shows the status of all files *untracked* So we need to stage our changes."
   ]
  },
  {
   "cell_type": "markdown",
   "metadata": {},
   "source": [
    "## 3. Stage Changes\n",
    "\n",
    "files can be staged for commit using following command.\n",
    "\n",
    "`` $git add <filename>``\n",
    "\n",
    "For now, we only stage *FirstFile.txt*.<br>\n",
    "``$ git add FirstFile.txt``\n",
    "\n",
    "after using this command let us check the status again.\n",
    "<img src=\"git2.PNG\" alt=\"File not found\" title=\"git ss\" />"
   ]
  },
  {
   "cell_type": "markdown",
   "metadata": {},
   "source": [
    "## 4. Commit changes.\n",
    "\n",
    "Once we have finalized what changes in which file are final, we need to commit those changes. The commit is made by using follwoing command.\n",
    "\n",
    "`` $ git commit -m \"commit message\"``\n",
    "\n",
    "by using ``-m`` we can specify our message for this commit. this message should carry some information about the changes in this commit.\n",
    "\n",
    "<img src=\"git3.PNG\" alt=\"File not found\" title=\"git ss\" />\n",
    "\n",
    "Once commit made a *snapshot* of poject is created. The basic workflow of a local VCS completes here."
   ]
  },
  {
   "cell_type": "markdown",
   "metadata": {},
   "source": [
    "# More on *Staging Area*\n",
    "\n",
    "A good commit should only focus and about a single change as having multiple changes in single commit would be confusing. When we need to control our commits staging of file is pretty much useful as we can select the files and changes to be comitted. Now we'll look into more details into adding files into staging area.\n",
    "\n",
    "## ``add <filename1> <filename2> .... <Filenamen>``\n",
    "\n",
    "this command adds the specified file in staging area for commits. For example wewant to add our new files *SecondFile.txt* and *ThirdFile.txt* we can add these files to staging area using.\n",
    "\n",
    "`` $ git add SecondFile.txt ThirdFile.txt``\n",
    "\n",
    "<img src=\"git4.PNG\" alt=\"File not found\" title=\"git ss\" />\n",
    "\n",
    "Now both of these files have been added for commit, while our third file *ThirdFile.txt* is still untracked. filenames in git are case sensitive, it means *SecondFile.txt* and *secondfile.txt* are not same."
   ]
  },
  {
   "cell_type": "markdown",
   "metadata": {},
   "source": [
    "## ``git add .``\n",
    "\n",
    "this command add all files in root directory into staging area. let us make changes in all files.\n",
    "Once all changes are made, run following command:\n",
    "\n",
    "`` $ git add . ``\n",
    "\n",
    "<img src=\"git5.PNG\" alt=\"File not found\" title=\"git ss\" />\n",
    "\n",
    "Notice that now at this stage all our files are tracked. and when ``git status`` is done, it shows all files have been modified.\n"
   ]
  },
  {
   "cell_type": "markdown",
   "metadata": {},
   "source": [
    "## ``git add -p <filename>`` or ``git add --patch <filename>``\n",
    "\n",
    "This command let us control  the number of line in a file to staged for commit. For example, if I have deleted 4 line and added 3 line in same file and now I want to make separate commits for deletion and addition, I have to select which lines should be staged for commit. For example previosuly my *FirstFile.txt* have following content:\n",
    "\n",
    "<img src=\"git6.PNG\" alt=\"File not found\" title=\"git ss\" />\n",
    "\n",
    "and after changes:\n",
    "\n",
    "<img src=\"git7.PNG\" alt=\"File not found\" title=\"git ss\" />\n",
    "\n",
    "we have deleted some lines and then added some line. Now first we want to commit only the deletion and them addition. run following command:\n",
    "\n",
    "``$ git add -p FirstFile.txt``\n",
    "\n",
    "it will open following screen. and before going into more details it must be added that a change is called **hunk** in git.\n",
    "like the addition we have made is one *hunk*\n",
    "\n",
    "<img src=\"git8.PNG\" alt=\"File not found\" title=\"git ss\" />\n",
    "\n",
    "In the end it is showing some options:\n",
    "\n",
    "*y* - stage this hunk - this command adds the current hunk to staging meaning it is ready.<br>\n",
    "*n* - do not stage this hunk - this command won’t add the current hunk to staging.<br>\n",
    "*q* - quit; do not stage this hunk or any of the remaining ones - this command quits out of the staging process.  Any hunks before this one that has been added to staging will still be staged but the current hunk and all hunks after will be ignored.<br>\n",
    "*a* - stage this hunk and all later hunks in the file - this command works similar to the `git add .` call. It will stage all changes made from this hunk on.<br>\n",
    "*d* - do not stage this hunk or any of the later hunks in the file - this command will not stage this hunk or any hunks in the same file.<br>\n",
    "*e* - manually edit the current hunk- this command opens vim and allow you to edit the hunk of code in your terminal.<br>\n",
    "*?* - print help -  this opens up the menu above.<br>\n",
    "<br>\n",
    "One option not printed here is:<br>\n",
    "*s* - split this hunk - this option is only available if the current hunk of code has an unchanged line of code between edits.  This will split the hunk into two separate hunks allowing you to stage them individually."
   ]
  },
  {
   "cell_type": "markdown",
   "metadata": {},
   "source": [
    "### Editing hunk:\n",
    "\n",
    "Now we need to edit our hunk to commit only deletion. at this stage, enter ``e`` and press enter, it will enter in *manual hunk edit mode* in *vim*.\n",
    "\n",
    "<img src=\"git10.PNG\" alt=\"File not found\" title=\"git ss\" />"
   ]
  },
  {
   "cell_type": "markdown",
   "metadata": {},
   "source": [
    "in this mode we can see our changes. The line with red txt starting with a ``-`` are removed and lines with blue text starting with ``+`` are the addition. \n",
    "1. if we want to exclude addition from staging, we need to delete these line starting with a ``+``.\n",
    "2. if we want to exclude deletion from staging, we need to replace a ``-`` with `` ``. (A blank space)\n",
    "\n",
    "#### Excluding addition from staging:\n",
    "\n",
    "In order to delete, move cursor to the line we want to delete and press ``d``, the line will be deleted. It we want to delete multiple line we need to use this syntax: ``:NumberOfStartLine, NumberOfEndLine d`` and press ``Enter``. In our example, I need to delete line 9 to 14, so I need to enter ``:9, 14d``.\n",
    "<img src=\"git11.PNG\" alt=\"File not found\" title=\"git ss\" />\n",
    "\n",
    "Once run this command, all these lines will be deleted.\n",
    "<img src=\"git12.PNG\" alt=\"File not found\" title=\"git ss\" />\n",
    "\n",
    "Now we only have line which are removed. Now in exit *vim* with ``:wq`` command. Now our deletion of line is staged for commit.\n",
    "\n",
    "Checking status again: \n",
    "\n",
    "<img src=\"git13.PNG\" alt=\"File not found\" title=\"git ss\" />\n",
    "\n",
    "we have same file staged and unstaged for commit, it's because we have staged the deletion in file to be commited and and addtion not be commited. now we commit our deletion: \n",
    "\n",
    "`` $ git commit -m \"deletion in file.\"``\n",
    "\n",
    "<img src=\"git14.PNG\" alt=\"File not found\" title=\"git ss\" />\n",
    "\n",
    "as we can see from commit details, only 3 deletions were commited.\n",
    "and after that only addition is left which we can stage and commit as:\n",
    "\n",
    "`` $ git add FirstFile.txt`` <br>\n",
    "`` $ git commit -m \"Addtition in FirstFile.txt\"``\n",
    "\n"
   ]
  },
  {
   "cell_type": "markdown",
   "metadata": {},
   "source": [
    "#### exclude deletion from staging\n",
    "\n",
    "I previous example, we have removed additions from being staged and staged our deletions. In case we need to satge only additions and not deletion, it has a different procedure. Let us make some changes and again open in ``manually hunk edit mode``, now press ``ì``, and in the bottom left corner insert will be written, then press enter and we will enter in edit mode:\n",
    "\n",
    "<img src=\"git15.PNG\" alt=\"File not found\" title=\"git ss\" />\n",
    "\n",
    "Once in edit mode replace ``-`` with a `` `` (a blank space) before the line which are to be removed from staging:\n",
    "<img src=\"git16.PNG\" alt=\"File not found\" title=\"git ss\" />\n",
    "\n",
    "\n",
    "Now press ``esc`` key to exit from *insert mode* and enter ``:wq`` to exit *vim*. After commit, we can see only additions are commits.\n",
    "\n",
    "<img src=\"git17.PNG\" alt=\"File not found\" title=\"git ss\" />"
   ]
  },
  {
   "cell_type": "markdown",
   "metadata": {},
   "source": [
    "# ``git add *.ext``\n",
    "\n",
    "At this stage let us add some file other a *txt* file. For example, I have added an html file in my directory. If all file of one type, i.e. with same extension, are required to be staged, we can use following commamd:\n",
    "\n",
    "``$ git add *.ext``\n",
    "\n",
    "where *ext* is the extension of our required files. For example, in our example, we need to commit only txt files.\n",
    "\n",
    "``$ git add *.txt``\n",
    "\n",
    "this command will add all file with *.txt* extension to staging area.\n",
    "\n",
    "<img src=\"git18.PNG\" alt=\"File not found\" title=\"git ss\" />"
   ]
  },
  {
   "cell_type": "markdown",
   "metadata": {},
   "source": [
    "# Removing a file from staging area.\n",
    "## ``git restore --staged <filename>``\n",
    "\n",
    "In case we have stage some file mistakenly, and now we need to remove it from stage area. In our example if we wanna remove FirstFile.txt, we'll use:\n",
    "``$ git restore --staged FirstFile.txt``\n",
    "\n",
    "<img src=\"git19.PNG\" alt=\"File not found\" title=\"git ss\" />"
   ]
  },
  {
   "cell_type": "markdown",
   "metadata": {},
   "source": [
    "# Discard changes in file.\n",
    "## ``git restore <filename>``\n",
    "\n",
    "Should one needs to restore his file by discarding all changes in some file, we'll use this command. However this file shouldn't be staged and is tracked. For example, chagnes have been made in *FirstFile.txt* and then want to discard these changes, we will execute following command:\n",
    "\n",
    "``$ git restore FirstFile.txt``\n",
    "\n",
    "<img src=\"git20.PNG\" alt=\"File not found\" title=\"git ss\" />\n",
    "\n",
    "if we open *FirstFile.txt* we'll see all changes were discarded. "
   ]
  },
  {
   "cell_type": "markdown",
   "metadata": {},
   "source": [
    "# Removal of deleted file\n",
    "## ``git rm <filename>``\n",
    "\n",
    "In case we have deleted a file from our working directory, we need to stage this deletion of file for commit. Let us delete a file, say *ThirdFile.txt*, in our working directory which was being tracked in git. We can make this deletion ready for commit using following command:\n",
    "``$ git rm ThirdFile.txt``\n",
    "\n",
    "\n",
    "<img src=\"git21.PNG\" alt=\"File not found\" title=\"git ss\" />\n",
    "\n",
    "Now our deletion is staged for commit."
   ]
  },
  {
   "cell_type": "markdown",
   "metadata": {},
   "source": [
    "# Check diffrences in tracked file.\n",
    "## ``git diff``\n",
    "\n",
    "Let us make some changes in *SecondFile.txt* and *ThirdFile.txt*. if we wish to see changes in these file, we would run following command:\n",
    "\n",
    "``$ git diff``\n",
    "\n",
    "it will show all changes made to both files.\n",
    "\n",
    "<img src=\"git22.PNG\" alt=\"File not found\" title=\"git ss\" />\n",
    "\n",
    "and in case we need to see changes in one file only, we will use following command:\n",
    "\n",
    "``$ git diff <filename>``"
   ]
  },
  {
   "cell_type": "markdown",
   "metadata": {},
   "source": [
    "# Creating a commit\n",
    "\n",
    "Once done with staging we need to commit changes. A good commit should be: \n",
    "\n",
    "1. A good commit should include changes related to one feature or issue. \n",
    "2. It should have short description about the change.\n",
    "3. Changes must be test and final.\n",
    "\n",
    "Let us see more about creating commit:\n",
    "\n"
   ]
  },
  {
   "cell_type": "markdown",
   "metadata": {},
   "source": [
    "## ``git commit -m \"Message\"``:\n",
    "This command commits the staged changes. ``-m`` flag is short for ``--message`` whcih specify a short a message to commit.\n",
    "Now suppose we have made some changes in *FirstFile.txt* by adding two lines in the last. We can commit by using:\n",
    "\n",
    "``$ git commit -m \"Added last two lines\"``"
   ]
  },
  {
   "cell_type": "markdown",
   "metadata": {},
   "source": [
    "## ``git commit``\n",
    "\n",
    "This command is used for creating multi line message for a commit. When this command is entered, git command line enters in *vim*. For example, after changing our text files and staging these changes, enter following command.\n",
    "\n",
    "`` $ git commit``\n",
    "\n",
    "following screen will open:\n",
    "\n",
    "<img src=\"git23.PNG\" alt=\"File not found\" title=\"git ss\" />\n",
    "\n",
    "We can see the changes files. Now simply type commit message.\n",
    "\n",
    "<img src=\"git24.PNG\" alt=\"File not found\" title=\"git ss\" />\n",
    "\n",
    "once the message is entered press ``esc`` key and then type ``:wq`` and and press ``enter``"
   ]
  },
  {
   "cell_type": "markdown",
   "metadata": {},
   "source": [
    "## Multiline commit using ``-m`` flag\n",
    "\n",
    "if one need to enter a multiline commit message using ``-m`` flag, one need to use following procedure\n",
    "\n",
    "1. Type ``git commit -m \"First Line of commit.`` and leave the second ``\"`` at the press ``enter``.\n",
    "2. Type scond line of message.\n",
    "3. Keep typing all line. \n",
    "4. Once all line are typed add ``\"`` to the end of last line and press ``enter``. for example:\n",
    "\n",
    "````\n",
    "$ git commit -m \"First line of commit.\n",
    "> Second Line of commit.\n",
    "> Third Line of commit.\"\n",
    "````\n",
    "\n",
    "Now this commit will have three lines.\n",
    "\n",
    "<img src = \"git25.PNG\" alt = \"FILE NOT FOUND\" title = \"git ss\" />"
   ]
  },
  {
   "cell_type": "markdown",
   "metadata": {},
   "source": [
    "## ``git commit -a``\n",
    "\n",
    "this command commits all change in tracked file, even if not staged. for example we wanna commit with ``-a`` flag: \n",
    "\n",
    "``$ git commit -a -m \"message\"``\n",
    "\n",
    "We won't need to stage our changes, all changes in track files will be commited."
   ]
  },
  {
   "cell_type": "markdown",
   "metadata": {},
   "source": [
    "## ``git commit --amend``\n",
    "\n",
    "this command is used to change the last commit. when this command is entered the git opens *vim*.\n",
    "<img src = \"git26.PNG\" alt = \"File Not Found\"/>\n",
    "\n",
    "We can change our message, then ``write and exit`` from *vim*\n"
   ]
  },
  {
   "cell_type": "markdown",
   "metadata": {},
   "source": [
    "# commit logs\n",
    "## ``git logs``\n",
    "\n",
    "This command shows history of all commits in chronological order with the most recent commit first. This log look like as below:\n",
    "<img src = \"git27.PNG\" alt = \"File not found\">\n",
    "\n",
    "````\n",
    "commit cb290b6dc2a6dc70aaa71b44af81e9586a45bb49\n",
    "Author: Abdullah Zahid <azravian@gmail.com>\n",
    "Date:   Mon Jul 27 21:09:29 2020 +0300\n",
    "\n",
    "    First line of commit.\n",
    "    Second Line of commit.\n",
    "    Third Line of commit.\n",
    "````\n",
    "\n",
    "Each entry have following informations:\n",
    "\n",
    "###### 1. commit hash:\n",
    "\n",
    "A unique 40 character ID assigned to each commit. This is shown in first line\n",
    "\n",
    "###### 2. commit Author:\n",
    "\n",
    "Shows user name and email of the user who created this commit.\n",
    "\n",
    "###### 3. commit Date:\n",
    "\n",
    "line 3 have date and time the commit was made.\n",
    "\n",
    "###### 4. commit message:\n",
    "\n",
    "The following line contains commit messages.\n",
    "\n",
    "\n",
    "If all log can not be populated on a single page, they are distributed over multiple pages and in such case a ``:`` is displayed at the bottom left corner of CLI. Jutst press ``space`` to move to next page. When all commits are displayed, ``(END)`` appears on the bottom left corner. \n",
    "<img src = \"git28.PNG\">\n",
    "\n",
    "In order to exit, press ``q``\n"
   ]
  },
  {
   "cell_type": "markdown",
   "metadata": {},
   "source": [
    "# detailed log of commits in a file.\n",
    "## ``git log -p <filename>``\n",
    "\n",
    "This command shows the commits associated to a given file. It also show the details of changes made in file. For example, following command will show all changes and commits in *ThirdFile.txt*:\n",
    "\n",
    "``$ git log -p ThirdFile.txt``\n",
    "\n",
    "<img src = \"git29.PNG\" />"
   ]
  },
  {
   "cell_type": "markdown",
   "metadata": {},
   "source": [
    "# Ignoring files:\n",
    "\n",
    "In order to ignore files, open a text editor, for example notepad in windows and save file as ``.gitignore`` in working directory. (if using Mac add ``.DS_Store``). Before jumping in we will see our files in directory.\n",
    "\n",
    "<img src = \"git32.PNG\"/>\n",
    "\n",
    "In directory Tree:\n",
    "\n",
    "<img src = \"git33.PNG\"/>\n",
    "\n",
    "### Ignore a specific file:\n",
    "if we wanna ignore a specific file, just add the name of file with extension to this file. For example, we want to ignore a file name ``about.html`` just add this name to add this filename to ``.gitignore`` file.\n",
    "\n",
    "### Ignore all files in a folder:\n",
    "When we want to ignore a folder, we need to put the path address of this folder into this file.\n",
    "\n",
    "### Ignore all file of one type:\n",
    "If we want to ignore all files of a type, we need to add ``*.ext`` to this file where *ext* is the extension of file. For example, python files have *.py* extension. If we add ``*.py`` in this ``.gitignore`` file all python file, be it fix.py or index.py, will be ignored\n",
    "\n",
    "### Ignore all file with same name:\n",
    "If we need to ignore all files with a name we just add file name to this file and appending a ``*`` in the end. All files of this name irrespective of there type with this name will be ignored.  For example, ``about*`` will all files named as about\n",
    "\n",
    "### comments in ``.gitignore``:\n",
    "in order to create a comment in this file, we start comment line with ``#``. \n",
    "\n",
    "<img src = \"git34.PNG\">\n",
    "\n",
    "Now we added files and folder names in ``.gitignore`` file. and when we check status, we can that none of these file appeared in status.\n",
    "\n",
    "<img src = \"git35.PNG\">"
   ]
  },
  {
   "cell_type": "markdown",
   "metadata": {},
   "source": [
    "# Check Who commited what and when:\n",
    "\n",
    "## ``git blame <filename>``\n",
    "\n",
    "This command shows what commits were made in a file, who made them and when. It just shows first 7 character of commit hash.\n",
    "\n",
    "\n",
    "## ``git blame -p <filename>``\n",
    "\n",
    "same as ``git blame <Filename>`` but it shows more details. The difference of results can be seen from the image below:\n",
    "\n",
    "<img src= \"git36.PNG\"/>\n"
   ]
  },
  {
   "cell_type": "markdown",
   "metadata": {},
   "source": [
    "# Branching\n",
    "\n",
    "Bracnhes makes it easier to work on multiple contexts of a project. This context can be a new feature, bugfixe etc. When we commits changes in one branch, these changes are limited to one branch and other branches are left unchanged.\n",
    "\n",
    "When Working on git we are always working with branches. The current branch we are working on is called ``active`` or ``checked out`` branch.\n",
    " A very common term used in git is ``Head``. *Head* points to the last commit of current active branch.\n",
    " \n",
    " ## Seeing current position of head.\n",
    " \n",
    "When we use ``git status``, the first line shows the current position of our head. For example, first line reads ``on branch master``, which means our head is currently on *Master* Branch\n",
    "\n",
    "<img src = \"git38.PNG\"/>"
   ]
  },
  {
   "cell_type": "markdown",
   "metadata": {},
   "source": [
    "## Creating a Branch\n",
    "### ``git branch <branch name>``\n",
    "\n",
    "This branch would create a branch in repository. It is a good idea to name a branch such that it reflects the context it is made for. For example, If we need to work on *FAQ* page, we may consider it naming ``FAQ_Branch``. Let us create a branch named ``fourthfile-branch`` as we would use this branch for our new file named, *FourthFile.txt*, using following command:\n",
    "\n",
    "``$ git branch fourthfile-branch``"
   ]
  },
  {
   "cell_type": "markdown",
   "metadata": {},
   "source": [
    "## Display current branches\n",
    "\n",
    "### ``git branch``\n",
    "\n",
    "This command dispays all braches. Active or Checked out Branch is green in color.\n",
    "\n",
    "### ``git branch -v`` \n",
    "\n",
    "This command shows some details. Active branch is colore in green. We can see first 7 digit of last commit hash and last commit message infront of each branch.\n",
    "\n",
    "<img src = \"git39.PNG\"/>"
   ]
  },
  {
   "cell_type": "markdown",
   "metadata": {},
   "source": [
    "## Switching to a branch\n",
    "\n",
    "### ``git checkout <Branch>``\n",
    "\n",
    "This command moves *head* from current branch to *Branch*. For example:\n",
    "\n",
    "``git checkout fouthfile-branch`` \n",
    "\n",
    "command will switch head to *fourthfile-branch*.\n",
    "\n",
    "1. Working Directory Contents depends on active branch:\n",
    "When working with branches, the working directory shows the contents exactly for that particular branch. For example, if we are on master branch we won't see *ForthFile.txt* in our working directory because this file was created when we were on *forthfile-branch*.\n",
    "\n",
    "2. ``git log`` will display only commit made on that branch.\n",
    "When we make a commit in one branch it doesn't show in the logs of other branch. For example, I commited the addition of *ForthFile.txt* while on branch *forthfile-branch* ``git log`` shows following logs. \n",
    "<img src = \"git41.PNG\" />\n",
    "\n",
    "However, if I am on master branch and check logs, I won't get last commit with message: *\"Forth File created\"*\n",
    "\n",
    "<img src = \"git40.PNG\"/>"
   ]
  },
  {
   "cell_type": "markdown",
   "metadata": {},
   "source": [
    "## Merging Two Branches\n",
    "\n",
    "### ``git merge <branch name>``\n",
    "\n",
    "When all required chnages and modifications done for a feature/context, we would need to merge this feature branch with other branch.\n",
    "\n",
    "When a branch is merged, all commits of this branch are merged with the branch it is merged with. Branching is done in two steps:\n",
    "1. Change to branch we want to merged to.\n",
    "2. Merge the required required.\n",
    "\n",
    "for example, we had a branch *forthfile-branch* which we want to merge with *master* branch. Now first we need to *check-out* to *master* and then *merge forthfile-branch*.\n",
    "\n",
    "`` $ git checkout master`` <br>\n",
    "`` $ git merge forthfile-branch``\n",
    "\n",
    "<img src = \"git43.PNG\"/>\n",
    "\n",
    "Now ``git log`` on master branch will also include the commit made on *forthfile-branch* as they are merge into *master* branch"
   ]
  },
  {
   "cell_type": "markdown",
   "metadata": {},
   "source": [
    "## Difference of commits in two branches\n",
    "\n",
    "### ``git log <Branch1>..<Branch2>``\n",
    "\n",
    "This command would only show the commit that are in *Branch1* but not in *Branch2*"
   ]
  },
  {
   "cell_type": "markdown",
   "metadata": {},
   "source": [
    "## Delete a Loacal Branch\n",
    "\n",
    "### ``git branch -d <BranchName>``\n",
    "\n",
    "This command deletes a local branch. If we need to delete *forthfile-brach*:\n",
    "\n",
    "``$ git branch -d forthfile-branch``"
   ]
  },
  {
   "cell_type": "markdown",
   "metadata": {},
   "source": [
    "## Saving Temporary Changes.\n",
    "\n",
    "There might be a need when we have made some changes but are not complete for a commit and we need to switch to a branch. We can't do this unless we commit our changes, but commiting incomplete changes is not a good idea. In such case, we can save changes temporarily. It is done by using git's stash feature by using following command:\n",
    "\n",
    "``$ git stash``\n",
    "\n",
    "<img src = \"git46.PNG\"/>"
   ]
  },
  {
   "cell_type": "markdown",
   "metadata": {},
   "source": [
    "## Save stash with Message\n",
    "### ``git stash -m <message>``\n",
    "\n",
    "This command saves the stash with give message.\n",
    "\n",
    "##  Save stash with a name\n",
    "### ``git stash save <StashName>``\n",
    "\n",
    "This command saves the stash with given name.\n",
    "\n",
    "<img src = \"git56.PNG\"/>"
   ]
  },
  {
   "cell_type": "markdown",
   "metadata": {},
   "source": [
    "## Listing all stashes:\n",
    "### ``git stash list``\n",
    "\n",
    "This command shows all stashes in git.\n",
    "<img src = \"git47.PNG\"/>\n",
    "\n",
    "The newest stash has the lowest number, and the older stashes have the higher number."
   ]
  },
  {
   "cell_type": "markdown",
   "metadata": {},
   "source": [
    "## Restoring temporary changes\n",
    "### ``git stash pop``\n",
    "\n",
    "This command restore the temporary changes and clear them from the stored stashes.\n",
    "\n",
    "<img src = \"git48.PNG\"/>"
   ]
  },
  {
   "cell_type": "markdown",
   "metadata": {},
   "source": [
    "## Restoring a specific stash\n",
    "### ``git stash apply <stash number>``\n",
    "\n",
    "This command restore a specific stash specified by number. This command doesn't delete stash and have to separately deleted.\n",
    "\n",
    "<img src =\"git49.PNG\"/>\n",
    "\n",
    "On may also use: <br>\n",
    "\n",
    "``$ git stash apply stash@{2}``<br>\n",
    "\n",
    "both above command and command in SS are same\n",
    "\n"
   ]
  },
  {
   "cell_type": "markdown",
   "metadata": {},
   "source": [
    "## Delete a stash\n",
    "### ``git stash drop <StashNumber>``\n",
    "\n",
    "This command deletes a stash specified bu the stash number.\n",
    "\n",
    "<img src = \"git50.PNG\"/>"
   ]
  },
  {
   "cell_type": "markdown",
   "metadata": {},
   "source": [
    "## Delete All Stashes\n",
    "### ``git stash clear``\n",
    "\n",
    "This command clear all stashes."
   ]
  },
  {
   "cell_type": "markdown",
   "metadata": {},
   "source": [
    "# Remote Repository.\n",
    "\n",
    "Unitl now we worked with local repositories. Now we look into remote repositories. When working with remote repositories, basic flow is same. however after every commit we need to upload changes to remote repository, it's call *pushing* to remote and getting data from remote is called *pulling* data from remote. The basic workflow of git with remote repositories is:\n",
    "\n",
    "<img src = \"git37.PNG\">\n",
    "\n",
    "*image ref: Learn Version control with Git*"
   ]
  },
  {
   "cell_type": "markdown",
   "metadata": {},
   "source": [
    "### Remote Repository with multiple contributer.\n",
    "\n",
    "while working with remote repository we need to take care of few things. For example, suppose 4 people are working on a project. At any instace, Person Push his changes to the remote repository, Now none of the rest of 3 people can make any push to remote unless they pull these changes from remote. It eliminates any risk of conflict.\n",
    "\n",
    "Multiple people can work on a  single file. If two people however, change code of same line of same file, A conflict is generated and we'll see this in details later."
   ]
  },
  {
   "cell_type": "markdown",
   "metadata": {},
   "source": [
    "## Adding a remote repository\n",
    "\n",
    "### ``git remote add <shortname> <remote address>``\n",
    "\n",
    "For now I will use ``https://github.com/azravian/PracticeProject.git`` and I would name it as ``origin``. Now my command for adding this repository will be:\n",
    "\n",
    "`` $ git remote add origin https://github.com/azravian/PracticeProject.git ``"
   ]
  },
  {
   "cell_type": "markdown",
   "metadata": {},
   "source": [
    "## See List of all remote\n",
    "\n",
    "### ``git remote -v``\n",
    "\n",
    "This command displays all configured remote repositories.\n",
    "\n",
    "<img src = \"git44.PNG\"/>"
   ]
  },
  {
   "cell_type": "markdown",
   "metadata": {},
   "source": [
    "## Having multiple remote repositories.\n",
    "\n",
    "In case we need to add more than one remote, we again have to use ``git remote add`` command followed by remote address:\n",
    "\n",
    "<img src = \"git45.PNG\"/>"
   ]
  },
  {
   "cell_type": "markdown",
   "metadata": {},
   "source": [
    "## See All branches and changes with remote\n",
    "### ``git branch -va``\n",
    "\n",
    "Now if we run this command all branches, local and remote are displayed.\n",
    "\n",
    "<img src = \"git52.PNG\"/>"
   ]
  },
  {
   "cell_type": "markdown",
   "metadata": {},
   "source": [
    "## Get metadata from remote.\n",
    "### ``git fetch <remote>`` \n",
    "\n",
    "This command gets the meta data from remote, however it doesn't incorporate the changes into the *Head* it means no file is changed after this command is executed. For example, we want to get metadata from *second-repo*:\n",
    "\n",
    "``$ git fetch second-repo``"
   ]
  },
  {
   "cell_type": "markdown",
   "metadata": {},
   "source": [
    "## Create a local branch based on remote branch\n",
    "### ``git checkout --track <remote/branch>``\n",
    "\n",
    "In case we need to work on a remote branch, we need to create a branch based on this remote. for example is we want to work on *RemoteBranch* branch of remote *origin*. we use the following command:\n",
    "\n",
    "``$ git checkout --track origin/RemoteBranch``\n",
    "\n",
    "<img src = \"git53.PNG\"/>\n",
    "<img src = \"git54.PNG\"/>\n",
    "\n",
    "\n",
    "Now a local branch have been created from a remote branch and this branch have been made active.\n",
    "\n",
    "This branch is called *tracking branch* and tracks the remotes branch. <br>\n",
    "If local branch have some commits that are not published it is said to be *ahead* of remote branch.<br>\n",
    "if remote branch have more commits than that of local branch, local branch said to be *behind* the remote branch.<br>\n",
    "\n",
    "Suppose I create two commit on branch and before publishing these changes to remote repository, ``git status`` would tell the branch *ahead* or *behind* it remote counterpart.\n",
    "\n",
    "<img src = \"git55.PNG\"/>\n",
    "\n",
    "above screenshot shows that local branch is ahead of remote branch by two commits."
   ]
  },
  {
   "cell_type": "markdown",
   "metadata": {},
   "source": [
    "## Publishing all change to remote.\n",
    "### ``git push <RemoteName> <BranchName>``\n",
    "\n",
    "This command publish the changes on remote repositoy specified by RemoteName on branch specified by BranchName. For example, we want to publish all our changes to *second-repo* on *master* branch\n",
    "\n",
    "``$ git push second-repo master``\n",
    "\n",
    "However when we create a local counterpart branch of remote branch, when ``git push`` is executed without any arguments, git pushes all changes to the same branch of corresponding repository.\n",
    "\n",
    "for example, if we are on *RemoteBranch* and execute following command:\n",
    "\n",
    "``$ git push``\n",
    "\n",
    "it will push all changes to *origin* on *RemoteBranch*."
   ]
  },
  {
   "cell_type": "markdown",
   "metadata": {},
   "source": [
    "## Downloaind Data and incorporate into *Head*\n",
    "### ``git pull <RemoteName>``\n",
    "\n",
    "This command gets all data from remote repository and incorporate these changes into head of our local repository. For example, for my *origin* I need to run following command:\n",
    "\n",
    "``$ git pull origin``\n",
    "\n",
    "If we need to pull from only specific branch, we can also specify it:\n",
    "\n",
    "``$ git pull origin master``"
   ]
  },
  {
   "cell_type": "markdown",
   "metadata": {},
   "source": [
    "## Publish a local branch to remote.\n",
    "\n",
    "when we have created a local branch, suppose by name *LocalBranch*, Once we have made a commit to this branch we need to push this local branch to remote repository *origin*. We use following command\n",
    "\n",
    "``$ git push origin LocalBranch``\n",
    "\n",
    "This command not only pushes the commit to *origin* but also the branch *LocalBranch*"
   ]
  },
  {
   "cell_type": "markdown",
   "metadata": {},
   "source": [
    "## Delete a tracking remote branch\n",
    "\n",
    "### ``git branch -dr <RemoteName>/<BranchName>``\n",
    "\n",
    "This command deletes the local tracking copy of remote branch. However the branch on the remote won't be deleted.\n",
    "\n",
    "<img src = \"git57.PNG\"/>"
   ]
  },
  {
   "cell_type": "markdown",
   "metadata": {},
   "source": [
    "## Deleting a branch on remote\n",
    "\n",
    "### ``git push <RemoteName> -d <BranchName>``\n",
    "\n",
    "This command delete a branch on remote. For example, I wanna delete RemoteBranch2 on origin.\n",
    "\n",
    "``$ push origin -d RemoteBranch2``\n",
    "\n",
    "<img src = \"git58.PNG\"/>\n"
   ]
  },
  {
   "cell_type": "markdown",
   "metadata": {},
   "source": [
    "# Advanced topics\n",
    "\n",
    "## Addition to most recent commit.\n",
    "### ``git add``\n",
    "### ``git commit --amend -m \"Message\"``\n",
    "\n",
    "previously we have seen that this command ammends the message of most recent commit. But in case we have staged changes we can incorporate those changes into the most recent commit."
   ]
  },
  {
   "cell_type": "markdown",
   "metadata": {},
   "source": [
    "## Undoing Uncommitted Changes\n",
    "\n",
    "### ``git checkout HEAD <filename>``\n",
    "\n",
    "This command restores the file to last commit. This command only restore uncommited changes in the specified file. <br>\n",
    "These changes can't be undone.\n",
    "\n",
    "<img src = \"git59.PNG\"/>"
   ]
  },
  {
   "cell_type": "markdown",
   "metadata": {},
   "source": [
    "## ``git reset --hard HEAD``\n",
    "\n",
    "This command retore all uncommited changes in all files to the last commit. Once reset is done, it cannot be undone.\n",
    "\n",
    "<img src=\"git60.PNG\">"
   ]
  },
  {
   "cell_type": "markdown",
   "metadata": {},
   "source": [
    "## Undoing Committed change\n",
    "\n",
    "### ``git revert <commit hash>``\n",
    "\n",
    "This commit reverts the working directory to specified commit. Only first seven characters of commit hash are enough to specify a commit.\n",
    "\n",
    "This command does not delete any commit, but get the changes from sprcified commit and create a new commit with those changes. Even after reverting to previous commit, all commit will be visible in logs.\n",
    "\n",
    "<img src = \"git61.PNG\" title = \"Ref: Learn Version Control with git\"/>\n",
    "\n",
    "*image ref: Learn Version control with Git*\n",
    "\n",
    "<img src = \"git62.PNG\">"
   ]
  },
  {
   "cell_type": "markdown",
   "metadata": {},
   "source": [
    "## ``git reset --hard <commit hash>``\n",
    "\n",
    "This command moves the *HEAD* to a commit specified by commit hash. This command won't add ant commit nor will delete any commit. But as our *HEAD* now moved to previous commit, the commit after this commit won't be visible in our logs. For example, we have commit represented as C1, C2, C3, C4 and currently head is on C4. If we *reset hard* to C2, all file will have only change made in this commit. Now *Head* will be at C2, and C3 and C4 won't show in logs. Since all these commits are not deleted, they are only hidden from history and stays in the memory for the *30 days*.\n",
    "\n",
    "<img src = \"git64.PNG\"/>\n",
    "\n",
    "*image ref: Learn version control with git*\n",
    "\n"
   ]
  },
  {
   "cell_type": "markdown",
   "metadata": {},
   "source": [
    "### ``git reset --keep <commit hash>``\n",
    "\n",
    "This command work same as above command, except it will keep all changes from the between most recent commit and commit which we are resetting to. In above example, if *--keep* is used instead of *--hard* all changes from commit *C2 and C3* will also be kept in the files."
   ]
  },
  {
   "cell_type": "markdown",
   "metadata": {},
   "source": [
    "## Recovering a reset commit.\n",
    "\n",
    "As we have seen that *rest --hard--* move head to specified commit and all intermediate commits are now not visible in *logs* and they are neither deleted, but are kept for *30 days*. If we need to recover such commit, we need to two steps first run the following command:\n",
    "\n",
    "``$ git reflog``\n",
    "\n",
    "and note down the commit hash we want to recover. and run following command.\n",
    "``$ git reset <commit hash>"
   ]
  },
  {
   "cell_type": "markdown",
   "metadata": {},
   "source": [
    "## Showing above *reset* \n",
    "### Resetting to previous commit\n",
    "\n",
    "###### Current commit history.\n",
    "\n",
    "Current my *git log* have these recent commits:\n",
    "\n",
    "<img src = \"git65.PNG\"/>\n",
    "\n",
    "###### reset to previous commit\n",
    "\n",
    "let us reset our repository to a commit identified by commit hash: *5e8a900bda958b83f8965b44b5325779e0a22af6* <br>\n",
    "sicne only first seven characters are necessary. we need to use following command:\n",
    "\n",
    "``$ git reset --hard 5e8a900``\n",
    "\n",
    "<img src=\"git66.PNG\"/>\n",
    "\n",
    "Now our head has moved back. Now checking logs again: \n",
    "<img src = \"git67.PNG\"/>\n",
    "\n",
    "Notice all commits after the commit we have reset to are no more visible in log."
   ]
  },
  {
   "cell_type": "markdown",
   "metadata": {},
   "source": [
    "### Recovering the commit.\n",
    "\n",
    "###### Find the commit hash which is to be restored.\n",
    "\n",
    "enter following command\n",
    "\n",
    "``$ git reflog``\n",
    "\n",
    "<img src = \"git68.PNG\">\n",
    "\n",
    "###### Restore the required commit\n",
    "\n",
    "notice that it has the position of head over the time. For now we need to restore the commit identified by *53a2707*. we need following command:\n",
    "\n",
    "``$ git reset 53a2707``\n",
    "<img src = \"git69.PNG\">\n",
    "\n",
    "Now our files contains the changes from this commit and now we need to stage and commit these changes."
   ]
  },
  {
   "cell_type": "code",
   "execution_count": null,
   "metadata": {},
   "outputs": [],
   "source": []
  }
 ],
 "metadata": {
  "kernelspec": {
   "display_name": "Python 3",
   "language": "python",
   "name": "python3"
  },
  "language_info": {
   "codemirror_mode": {
    "name": "ipython",
    "version": 3
   },
   "file_extension": ".py",
   "mimetype": "text/x-python",
   "name": "python",
   "nbconvert_exporter": "python",
   "pygments_lexer": "ipython3",
   "version": "3.7.6"
  }
 },
 "nbformat": 4,
 "nbformat_minor": 4
}
